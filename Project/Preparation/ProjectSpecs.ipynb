{
 "cells": [
  {
   "cell_type": "markdown",
   "metadata": {},
   "source": [
    "# AP Test Scores & Demographics at NYC Schools\n",
    "### DATA 602 Project Specification\n",
    "### Dan Smilowitz"
   ]
  },
  {
   "cell_type": "markdown",
   "metadata": {},
   "source": [
    "## Project Statement\n",
    "I will investigate links and correlations between demographics and scores on Advanced Placement (AP) exams for high schools in New York City.  If possible, I will also attempt to identify the enrollment in AP classes by high school, and links with demographics.\n",
    "\n",
    "The data will come from annual reports from the NYC Department of Education, as hosted on NYC OpenData.  I will attempt to see if there is a statistically significant relationship between AP test score and various demographic aspects (age, race, etc.), and to visualize this relationship."
   ]
  },
  {
   "cell_type": "markdown",
   "metadata": {},
   "source": [
    "## Project Data\n",
    "Data will come from report from the New York City Department of Education, as hosted on [NYC OpenData](https://data.cityofnewyork.us/data?browseSearch=&agency=Department%20of%20Education%20%28DOE%29), specifically:\n",
    "- Reports detailing annual number of AP exams taken and passed \n",
    "- Profile of school demographic information\n",
    "\n",
    "### Data Manipulation\n",
    "As the two primary data components (test scores and demographics) are located in different data files, they will have to be merged to match demographic attributes to scores for each school.  Test score data will have to be converted to determine a pass rate.  Additionally, the number of test takers (from one dataset) will have to be compared to total school enrollment (from the other dataset) to understand the portion of students taking AP exams.  This manipulation will be done using a combination of base Python and `pandas`."
   ]
  },
  {
   "cell_type": "markdown",
   "metadata": {},
   "source": [
    "## Data Analysis\n",
    "In order to determine the strength of the relationship between AP test metrics and demographics, analysis of the relationship between AP scores and AP enrollment will be compared to a demographic measures (primarily race and gender).  This will include:\n",
    "- Correlation analysis\n",
    "- Regression analysis\n",
    "- Tests for statistical significance\n",
    "\n",
    "These analyses will be performed using one or both of `NumPy` and `SciPy`.\n",
    "\n",
    "### Visualization\n",
    "The analyses outlined in the section above will be presented graphically to show the relationship between variables of interest.  Plotting the independent variables (demographic characteristics) vs. the dependent variables (AP test scores and AP class enrollment) will allow the correlation and linear regression calculations to be represented visually.  Visualizations will be prepared using `matplotlib`, as well as possibly incorporating `bokeh` or `plotly`."
   ]
  },
  {
   "cell_type": "markdown",
   "metadata": {},
   "source": [
    "## Findings\n",
    "The key findings from this project will be presented in the following forms:\n",
    "- The correlation between *dependent variable* and *independent variable* is X\n",
    "- There *(does/does not)* exist a statistically significant relationship between *dependent variable* and *independent variable*\n",
    "    - The equation describing this relationship is given by *[equation]*"
   ]
  }
 ],
 "metadata": {
  "anaconda-cloud": {},
  "kernelspec": {
   "display_name": "Python [default]",
   "language": "python",
   "name": "python2"
  },
  "language_info": {
   "codemirror_mode": {
    "name": "ipython",
    "version": 2
   },
   "file_extension": ".py",
   "mimetype": "text/x-python",
   "name": "python",
   "nbconvert_exporter": "python",
   "pygments_lexer": "ipython2",
   "version": "2.7.12"
  },
  "latex_metadata": {
   "author": "Dan Smilowitz"
  }
 },
 "nbformat": 4,
 "nbformat_minor": 1
}
