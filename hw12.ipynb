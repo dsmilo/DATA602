{
 "cells": [
  {
   "cell_type": "markdown",
   "metadata": {},
   "source": [
    "# DATA 602 Assignment 12\n",
    "# Dan Smilowitz"
   ]
  },
  {
   "cell_type": "markdown",
   "metadata": {},
   "source": [
    "## Original Operation"
   ]
  },
  {
   "cell_type": "code",
   "execution_count": 1,
   "metadata": {
    "collapsed": false
   },
   "outputs": [
    {
     "name": "stdout",
     "output_type": "stream",
     "text": [
      "1 loop, best of 3: 291 ms per loop\n"
     ]
    }
   ],
   "source": [
    "%%timeit\n",
    "\n",
    "import pandas as pd\n",
    "import numpy as np\n",
    "# read and sanitize data\n",
    "aapl = pd.read_csv('data/apple.2011.csv', names=['Date', 'Price', 'Pct_Change'], header=0)\n",
    "aapl['Date'] = pd.to_datetime(aapl['Date'], format='%m/%d/%Y')\n",
    "aapl['Pct_Change'] = pd.to_numeric(aapl['Pct_Change'], errors='coerce')\n",
    "# get mean & sd; create number generator\n",
    "mu = aapl['Pct_Change'].mean()\n",
    "sigma = aapl['Pct_Change'].std()\n",
    "def aapl_gauss(n):\n",
    "    return np.random.normal(mu, sigma, n)\n",
    "# simulate 10000 times\n",
    "sims = np.empty(10000)\n",
    "for i in xrange(10000):\n",
    "    price = aapl['Price'].iloc[-1]\n",
    "    my_pct = aapl_gauss(20)\n",
    "    for dy in xrange(20):\n",
    "        price = price * (1 + my_pct[dy])\n",
    "    sims[i] = price\n",
    "# get Value at Risk\n",
    "sims = sims.argsort()\n",
    "VaR = np.percentile(sims, 1)"
   ]
  },
  {
   "cell_type": "markdown",
   "metadata": {
    "collapsed": true
   },
   "source": [
    "## Parallel Processing"
   ]
  },
  {
   "cell_type": "code",
   "execution_count": 2,
   "metadata": {
    "collapsed": false
   },
   "outputs": [],
   "source": [
    "import ipyparallel\n",
    "clients = ipyparallel.Client()\n",
    "clients.block = True\n",
    "dv = clients.direct_view()"
   ]
  },
  {
   "cell_type": "code",
   "execution_count": 3,
   "metadata": {
    "collapsed": false
   },
   "outputs": [
    {
     "name": "stdout",
     "output_type": "stream",
     "text": [
      "1 loop, best of 3: 172 ms per loop\n"
     ]
    }
   ],
   "source": [
    "%%timeit\n",
    "\n",
    "# initiate arrays on clusters\n",
    "%px from numpy import empty\n",
    "%px sims = empty(2500)\n",
    "\n",
    "%px\n",
    "\n",
    "import numpy as np\n",
    "import pandas as pd\n",
    "\n",
    "aapl = pd.read_csv('data/apple.2011.csv', names=['Date', 'Price', 'Pct_Change'], header=0)\n",
    "aapl['Date'] = pd.to_datetime(aapl['Date'], format='%m/%d/%Y')\n",
    "aapl['Pct_Change'] = pd.to_numeric(aapl['Pct_Change'], errors='coerce')\n",
    "\n",
    "mu = aapl['Pct_Change'].mean()\n",
    "sigma = aapl['Pct_Change'].std()\n",
    "def aapl_gauss(n):\n",
    "    return np.random.normal(mu, sigma, n)\n",
    "\n",
    "sims = np.empty(2500)\n",
    "for i in xrange(2500):\n",
    "    price = aapl['Price'].iloc[-1]\n",
    "    my_pct = aapl_gauss(20)\n",
    "    for dy in xrange(20):\n",
    "        price = price * (1 + my_pct[dy])\n",
    "    sims[i] = price\n",
    "\n",
    "%px\n",
    "\n",
    "# gather results from parallel clusters\n",
    "sims = dv.gather('sims')\n",
    "sims = np.array(sims)\n",
    "sims = sims.argsort()\n",
    "VaR = np.percentile(sims, 1)"
   ]
  },
  {
   "cell_type": "markdown",
   "metadata": {},
   "source": [
    "## Comparision\n",
    "The time for the operation, as returned by the `%%timeit` magic command, shows that the parallel-processed solution executed over 40% faster than the serial-processed solution.  This does not account for the time to start and end the four clusters; this time leads to the total time of operation being longer for the parallel-processed solution in this case.  However, when working with larger datasets and more complex or operations, or in cases where the clusters are already running, the savings may be more significant."
   ]
  }
 ],
 "metadata": {
  "anaconda-cloud": {},
  "kernelspec": {
   "display_name": "Python [default]",
   "language": "python",
   "name": "python2"
  },
  "language_info": {
   "codemirror_mode": {
    "name": "ipython",
    "version": 2
   },
   "file_extension": ".py",
   "mimetype": "text/x-python",
   "name": "python",
   "nbconvert_exporter": "python",
   "pygments_lexer": "ipython2",
   "version": "2.7.12"
  }
 },
 "nbformat": 4,
 "nbformat_minor": 1
}
